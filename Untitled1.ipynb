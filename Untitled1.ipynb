{
 "cells": [
  {
   "cell_type": "code",
   "execution_count": 16,
   "id": "20bd4173-21c4-44ed-9fab-35dfe4a381ea",
   "metadata": {
    "tags": []
   },
   "outputs": [],
   "source": [
    "Menu = {\n",
    "    \"Small Pizza\" : 15,\n",
    "\n",
    "    \"Medium Pizza\" : 20,\n",
    "\n",
    "    \"Large Pizza\" : 25,\n",
    "\n",
    "    \"Extra Pepperoni\" : {\n",
    "        \"Small\" : 2,\n",
    "        \"Medium\" : 3,\n",
    "        \"Large\" : 4\n",
    "        },\n",
    "\n",
    "    \"Extra Cheese\" : 1\n",
    "    \n",
    "}"
   ]
  },
  {
   "cell_type": "code",
   "execution_count": null,
   "id": "dc6deefe-d565-4f77-93da-2b03b228b8a5",
   "metadata": {},
   "outputs": [],
   "source": []
  },
  {
   "cell_type": "code",
   "execution_count": 17,
   "id": "c57190e0-56b7-4331-87a1-af307207fac1",
   "metadata": {
    "tags": []
   },
   "outputs": [
    {
     "name": "stdin",
     "output_type": "stream",
     "text": [
      "Which size you want to add: (Small, Medium, Large):  small\n"
     ]
    }
   ],
   "source": [
    "extra_pepperoni_size = input(\"Which size you want to add: (Small, Medium, Large): \").title()\n",
    "a = Menu[\"Extra Pepperoni\"][extra_pepperoni_size]"
   ]
  },
  {
   "cell_type": "code",
   "execution_count": 18,
   "id": "3e305356-6158-4f51-aff4-5332eaa430aa",
   "metadata": {
    "tags": []
   },
   "outputs": [
    {
     "data": {
      "text/plain": [
       "2"
      ]
     },
     "execution_count": 18,
     "metadata": {},
     "output_type": "execute_result"
    }
   ],
   "source": [
    "a"
   ]
  },
  {
   "cell_type": "code",
   "execution_count": null,
   "id": "b7b3bf00-67a3-4a3b-a404-b72cfa231939",
   "metadata": {},
   "outputs": [],
   "source": []
  }
 ],
 "metadata": {
  "kernelspec": {
   "display_name": "Python 3 (ipykernel)",
   "language": "python",
   "name": "python3"
  },
  "language_info": {
   "codemirror_mode": {
    "name": "ipython",
    "version": 3
   },
   "file_extension": ".py",
   "mimetype": "text/x-python",
   "name": "python",
   "nbconvert_exporter": "python",
   "pygments_lexer": "ipython3",
   "version": "3.11.2"
  }
 },
 "nbformat": 4,
 "nbformat_minor": 5
}
