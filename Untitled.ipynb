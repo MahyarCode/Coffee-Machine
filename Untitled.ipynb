{
 "cells": [
  {
   "cell_type": "code",
   "execution_count": 5,
   "id": "2e7d4d54-bf03-4617-8bae-9108a72c9a37",
   "metadata": {
    "tags": []
   },
   "outputs": [],
   "source": [
    "Resources = {\"Coffee\" : 100,\n",
    "            \"Water\": 500,\n",
    "            \"Milk\" : 300,\n",
    "            \"Sugar\": 800,\n",
    "            \"Tea\": 200}\n",
    "\n",
    "Menu = {\n",
    "    \"Espresso\":{\n",
    "        \"Ingredients\":{\n",
    "            \"Coffee\": 18,\n",
    "            \"Water\":50\n",
    "        },\n",
    "        \"Cost\":1,\n",
    "        \"Price\":1.5\n",
    "    },\n",
    "\n",
    "    \"Cappuccino\":{\n",
    "        \"Ingredients\":{\n",
    "            \"Coffee\": 24,\n",
    "            \"Water\":250,\n",
    "            \"Milk\": 100\n",
    "        },\n",
    "        \"Cost\":1.5,\n",
    "        \"Price\":2\n",
    "    },\n",
    "\n",
    "    \"Latte\":{\n",
    "        \"Ingredients\":{\n",
    "            \"Coffee\": 24,\n",
    "            \"Water\":200,\n",
    "            \"Milk\": 150\n",
    "        },\n",
    "        \"Cost\":1.75,\n",
    "        \"Price\":2.5\n",
    "    },\n",
    "\n",
    "    \"Tea\":{\n",
    "        \"Ingredients\":{\n",
    "            \"Tea\": 10,\n",
    "            \"Water\":250,\n",
    "            \"Sugar\": 150\n",
    "        },\n",
    "        \"Cost\":1.2,\n",
    "        \"Price\":2.25\n",
    "    }\n",
    "}\n"
   ]
  },
  {
   "cell_type": "code",
   "execution_count": 14,
   "id": "87724fc6-3180-43ce-8a2d-d2f45fa69aa8",
   "metadata": {
    "tags": []
   },
   "outputs": [],
   "source": [
    "User_Order = \"Latte\""
   ]
  },
  {
   "cell_type": "code",
   "execution_count": 17,
   "id": "ffb04f88-22e6-48da-b0e2-4fdff278bf5a",
   "metadata": {
    "tags": []
   },
   "outputs": [],
   "source": [
    "Cooking_items = Menu[User_Order]['Ingredients']\n",
    "\n",
    "for Components, quantity in Cooking_items.items():\n",
    "    if Resources[Components] >= quantity : \n",
    "        Resources[Components] -= quantity"
   ]
  },
  {
   "cell_type": "code",
   "execution_count": 18,
   "id": "50681207-fb6d-47d9-87d6-d973dc6d04d2",
   "metadata": {
    "tags": []
   },
   "outputs": [
    {
     "data": {
      "text/plain": [
       "{'Coffee': 52, 'Water': 100, 'Milk': 0, 'Sugar': 800, 'Tea': 200}"
      ]
     },
     "execution_count": 18,
     "metadata": {},
     "output_type": "execute_result"
    }
   ],
   "source": [
    "Resources"
   ]
  },
  {
   "cell_type": "code",
   "execution_count": null,
   "id": "5f95c21a-a394-4ef5-a2da-32144513b3c5",
   "metadata": {},
   "outputs": [],
   "source": []
  }
 ],
 "metadata": {
  "kernelspec": {
   "display_name": "Python 3 (ipykernel)",
   "language": "python",
   "name": "python3"
  },
  "language_info": {
   "codemirror_mode": {
    "name": "ipython",
    "version": 3
   },
   "file_extension": ".py",
   "mimetype": "text/x-python",
   "name": "python",
   "nbconvert_exporter": "python",
   "pygments_lexer": "ipython3",
   "version": "3.11.2"
  }
 },
 "nbformat": 4,
 "nbformat_minor": 5
}
