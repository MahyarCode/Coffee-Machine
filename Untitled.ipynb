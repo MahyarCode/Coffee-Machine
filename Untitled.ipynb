{
 "cells": [
  {
   "cell_type": "code",
   "execution_count": 1,
   "id": "1d3dd720-8d35-4e7e-9759-8ca50ee5eae6",
   "metadata": {
    "tags": []
   },
   "outputs": [],
   "source": [
    "Resources = {\"Coffee\" : 100,\n",
    "            \"Water\": 500,\n",
    "            \"Milk\" : 300,\n",
    "            \"Sugar\": 800,\n",
    "            \"Tea\": 200}\n",
    "\n",
    "Menu = {\n",
    "    \"Espresso\":{\n",
    "        \"Ingredients\":{\n",
    "            \"Coffee\": 18,\n",
    "            \"Water\":50\n",
    "        },\n",
    "        \"Cost\":1,\n",
    "        \"Price\":1.5\n",
    "    },\n",
    "\n",
    "    \"Cappuccino\":{\n",
    "        \"Ingredients\":{\n",
    "            \"Coffee\": 24,\n",
    "            \"Water\":250,\n",
    "            \"Milk\": 100\n",
    "        },\n",
    "        \"Cost\":1.5,\n",
    "        \"Price\":2\n",
    "    },\n",
    "\n",
    "    \"Latte\":{\n",
    "        \"Ingredients\":{\n",
    "            \"Coffee\": 24,\n",
    "            \"Water\":200,\n",
    "            \"Milk\": 150\n",
    "        },\n",
    "        \"Cost\":1.75,\n",
    "        \"Price\":2.5\n",
    "    },\n",
    "\n",
    "    \"Tea\":{\n",
    "        \"Ingredients\":{\n",
    "            \"Tea\": 10,\n",
    "            \"Water\":250,\n",
    "            \"Sugar\": 150\n",
    "        },\n",
    "        \"Cost\":1.2,\n",
    "        \"Price\":2.25\n",
    "    }\n",
    "}\n"
   ]
  },
  {
   "cell_type": "code",
   "execution_count": 4,
   "id": "5eddfe12-1d3d-4377-bade-2f48f9d44052",
   "metadata": {
    "tags": []
   },
   "outputs": [
    {
     "data": {
      "text/plain": [
       "1"
      ]
     },
     "execution_count": 4,
     "metadata": {},
     "output_type": "execute_result"
    }
   ],
   "source": [
    "Menu[\"Espresso\"][\"Cost\"]\n"
   ]
  },
  {
   "cell_type": "code",
   "execution_count": null,
   "id": "95a61026-193f-43ca-a59c-c9918db989f6",
   "metadata": {},
   "outputs": [],
   "source": []
  }
 ],
 "metadata": {
  "kernelspec": {
   "display_name": "Python 3 (ipykernel)",
   "language": "python",
   "name": "python3"
  },
  "language_info": {
   "codemirror_mode": {
    "name": "ipython",
    "version": 3
   },
   "file_extension": ".py",
   "mimetype": "text/x-python",
   "name": "python",
   "nbconvert_exporter": "python",
   "pygments_lexer": "ipython3",
   "version": "3.11.2"
  }
 },
 "nbformat": 4,
 "nbformat_minor": 5
}
